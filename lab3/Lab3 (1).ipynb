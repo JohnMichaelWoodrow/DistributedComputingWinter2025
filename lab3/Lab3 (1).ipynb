{
 "cells": [
  {
   "cell_type": "code",
   "execution_count": 0,
   "metadata": {
    "application/vnd.databricks.v1+cell": {
     "cellMetadata": {
      "byteLimit": 2048000,
      "rowLimit": 10000
     },
     "inputWidgets": {},
     "nuid": "0b1faf90-308d-4a6b-a923-f7866486d52c",
     "showTitle": false,
     "tableResultSettingsMap": {},
     "title": ""
    }
   },
   "outputs": [
    {
     "output_type": "stream",
     "name": "stdout",
     "output_type": "stream",
     "text": [
      "+-----------------+--------------------+-------------+\n|       actor_name|         movie_title|produced_year|\n+-----------------+--------------------+-------------+\n|McClure, Marc (I)|        Coach Carter|         2005|\n|McClure, Marc (I)|         Superman II|         1980|\n|McClure, Marc (I)|           Apollo 13|         1995|\n|McClure, Marc (I)|            Superman|         1978|\n|McClure, Marc (I)|  Back to the Future|         1985|\n|McClure, Marc (I)|Back to the Futur...|         1990|\n|Cooper, Chris (I)|  Me, Myself & Irene|         2000|\n|Cooper, Chris (I)|         October Sky|         1999|\n|Cooper, Chris (I)|              Capote|         2005|\n|Cooper, Chris (I)|The Bourne Supremacy|         2004|\n+-----------------+--------------------+-------------+\nonly showing top 10 rows\n\nroot\n |-- actor_name: string (nullable = true)\n |-- movie_title: string (nullable = true)\n |-- produced_year: long (nullable = true)\n\n"
     ]
    }
   ],
   "source": [
    "from pyspark.sql import SparkSession\n",
    "\n",
    "# Load the JSON file into a DataFrame\n",
    "movies_df = spark.read.json(\"/FileStore/movies.json\")\n",
    "\n",
    "# Display the first 10 records\n",
    "movies_df.show(10)\n",
    "\n",
    "# Print the schema of the DataFrame\n",
    "movies_df.printSchema()\n"
   ]
  },
  {
   "cell_type": "code",
   "execution_count": 0,
   "metadata": {
    "application/vnd.databricks.v1+cell": {
     "cellMetadata": {
      "byteLimit": 2048000,
      "rowLimit": 10000
     },
     "inputWidgets": {},
     "nuid": "8b884458-ec4f-42df-a46a-b043a5d12407",
     "showTitle": false,
     "tableResultSettingsMap": {},
     "title": ""
    }
   },
   "outputs": [
    {
     "output_type": "stream",
     "name": "stdout",
     "output_type": "stream",
     "text": [
      "+-----------------+--------------------+-------------+------+\n|       actor_name|         movie_title|produced_year|decade|\n+-----------------+--------------------+-------------+------+\n|McClure, Marc (I)|        Coach Carter|         2005|  2000|\n|McClure, Marc (I)|         Superman II|         1980|  1980|\n|McClure, Marc (I)|           Apollo 13|         1995|  1990|\n|McClure, Marc (I)|            Superman|         1978|  1970|\n|McClure, Marc (I)|  Back to the Future|         1985|  1980|\n|McClure, Marc (I)|Back to the Futur...|         1990|  1990|\n|Cooper, Chris (I)|  Me, Myself & Irene|         2000|  2000|\n|Cooper, Chris (I)|         October Sky|         1999|  1990|\n|Cooper, Chris (I)|              Capote|         2005|  2000|\n|Cooper, Chris (I)|The Bourne Supremacy|         2004|  2000|\n+-----------------+--------------------+-------------+------+\nonly showing top 10 rows\n\n"
     ]
    }
   ],
   "source": [
    "from pyspark.sql.functions import col, floor\n",
    "\n",
    "# Add a 'decade' column based on the year\n",
    "movies_with_decade_df = movies_df.withColumn(\"decade\", (floor(col(\"produced_year\") / 10) * 10))\n",
    "\n",
    "# Display the first 10 records to verify the column was added\n",
    "movies_with_decade_df.show(10)"
   ]
  },
  {
   "cell_type": "code",
   "execution_count": 0,
   "metadata": {
    "application/vnd.databricks.v1+cell": {
     "cellMetadata": {
      "byteLimit": 2048000,
      "rowLimit": 10000
     },
     "inputWidgets": {},
     "nuid": "c1785a28-b6cf-49ac-a835-9e0f73a8609c",
     "showTitle": false,
     "tableResultSettingsMap": {},
     "title": ""
    }
   },
   "outputs": [
    {
     "output_type": "stream",
     "name": "stdout",
     "output_type": "stream",
     "text": [
      "+-----------------+--------------------+-------------+------+\n|            actor|               title|produced_year|decade|\n+-----------------+--------------------+-------------+------+\n|McClure, Marc (I)|        Coach Carter|         2005|  2000|\n|McClure, Marc (I)|         Superman II|         1980|  1980|\n|McClure, Marc (I)|           Apollo 13|         1995|  1990|\n|McClure, Marc (I)|            Superman|         1978|  1970|\n|McClure, Marc (I)|  Back to the Future|         1985|  1980|\n|McClure, Marc (I)|Back to the Futur...|         1990|  1990|\n|Cooper, Chris (I)|  Me, Myself & Irene|         2000|  2000|\n|Cooper, Chris (I)|         October Sky|         1999|  1990|\n|Cooper, Chris (I)|              Capote|         2005|  2000|\n|Cooper, Chris (I)|The Bourne Supremacy|         2004|  2000|\n+-----------------+--------------------+-------------+------+\nonly showing top 10 rows\n\n"
     ]
    }
   ],
   "source": [
    "# Rename the first two columns to 'actor' and 'title'\n",
    "renamed_movies_df = movies_with_decade_df.withColumnRenamed(\"actor_name\", \"actor\").withColumnRenamed(\"movie_title\", \"title\")\n",
    "\n",
    "# Display the first 10 records to verify the columns were renamed\n",
    "renamed_movies_df.show(10)\n"
   ]
  },
  {
   "cell_type": "code",
   "execution_count": 0,
   "metadata": {
    "application/vnd.databricks.v1+cell": {
     "cellMetadata": {
      "byteLimit": 2048000,
      "rowLimit": 10000
     },
     "inputWidgets": {},
     "nuid": "29a5818b-049f-44e1-a192-da8b40e39ea6",
     "showTitle": false,
     "tableResultSettingsMap": {},
     "title": ""
    }
   },
   "outputs": [
    {
     "output_type": "stream",
     "name": "stdout",
     "output_type": "stream",
     "text": [
      "+------+-----+\n|decade|count|\n+------+-----+\n|  2000|18622|\n+------+-----+\nonly showing top 1 row\n\n"
     ]
    }
   ],
   "source": [
    "# Group by 'decade' and count the number of movies in each decade\n",
    "decade_counts_df = renamed_movies_df.groupBy(\"decade\").count()\n",
    "\n",
    "# Order the result by count in descending order and display the decade with the most movies\n",
    "decade_counts_df.orderBy(col(\"count\").desc()).show(1)\n"
   ]
  },
  {
   "cell_type": "code",
   "execution_count": 0,
   "metadata": {
    "application/vnd.databricks.v1+cell": {
     "cellMetadata": {
      "byteLimit": 2048000,
      "rowLimit": 10000
     },
     "inputWidgets": {},
     "nuid": "cdd9cf57-be07-4a22-ac7f-f0916ebb253a",
     "showTitle": false,
     "tableResultSettingsMap": {},
     "title": ""
    }
   },
   "outputs": [
    {
     "output_type": "stream",
     "name": "stdout",
     "output_type": "stream",
     "text": [
      "+-------------------+-----+\n|              actor|count|\n+-------------------+-----+\n|   Tatasciore, Fred|   38|\n|      Welker, Frank|   38|\n| Jackson, Samuel L.|   32|\n|      Harnell, Jess|   31|\n|        Damon, Matt|   27|\n|      Willis, Bruce|   27|\n|  Cummings, Jim (I)|   26|\n|         Hanks, Tom|   25|\n|   Lynn, Sherry (I)|   25|\n|    McGowan, Mickie|   25|\n|    Bergen, Bob (I)|   25|\n|      Proctor, Phil|   24|\n|   Wilson, Owen (I)|   23|\n|        Cruise, Tom|   23|\n|         Pitt, Brad|   23|\n|Freeman, Morgan (I)|   22|\n|Williams, Robin (I)|   22|\n|       Depp, Johnny|   22|\n|     Morrison, Rana|   22|\n|      Diaz, Cameron|   21|\n+-------------------+-----+\nonly showing top 20 rows\n\n"
     ]
    }
   ],
   "source": [
    "# Group by 'actor' and count the number of movies for each actor\n",
    "actor_counts_df = renamed_movies_df.groupBy(\"actor\").count()\n",
    "\n",
    "# Order the result by count in descending order\n",
    "actor_counts_df.orderBy(col(\"count\").desc()).show()\n"
   ]
  }
 ],
 "metadata": {
  "application/vnd.databricks.v1+notebook": {
   "computePreferences": null,
   "dashboards": [],
   "environmentMetadata": {
    "base_environment": "",
    "client": "1"
   },
   "language": "python",
   "notebookMetadata": {
    "pythonIndentUnit": 4
   },
   "notebookName": "Lab3",
   "widgets": {}
  }
 },
 "nbformat": 4,
 "nbformat_minor": 0
}
