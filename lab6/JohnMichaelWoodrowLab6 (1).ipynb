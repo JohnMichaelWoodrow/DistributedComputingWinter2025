{
 "cells": [
  {
   "cell_type": "code",
   "execution_count": 0,
   "metadata": {
    "application/vnd.databricks.v1+cell": {
     "cellMetadata": {
      "byteLimit": 2048000,
      "rowLimit": 10000
     },
     "inputWidgets": {},
     "nuid": "7260ff2f-0f56-41b3-9464-786f6ec8a8b9",
     "showTitle": false,
     "tableResultSettingsMap": {},
     "title": ""
    }
   },
   "outputs": [
    {
     "output_type": "stream",
     "name": "stdout",
     "output_type": "stream",
     "text": [
      "+-----------+--------------------+------------+------------+---------+--------------------+---------+----------+-----+\n|origin_code|      origin_airport| origin_city|origin_state|dest_code|        dest_airport|dest_city|dest_state|count|\n+-----------+--------------------+------------+------------+---------+--------------------+---------+----------+-----+\n|        BQN|Rafael Hernández ...|   Aguadilla|          PR|      MCO|Orlando Internati...|  Orlando|        FL|  441|\n|        PHL|Philadelphia Inte...|Philadelphia|          PA|      MCO|Orlando Internati...|  Orlando|        FL| 4869|\n|        MCI|Kansas City Inter...| Kansas City|          MO|      IAH|George Bush Inter...|  Houston|        TX| 1698|\n|        SPI|Abraham Lincoln C...| Springfield|          IL|      ORD|Chicago O'Hare In...|  Chicago|        IL|  998|\n|        SNA|John Wayne Airpor...|   Santa Ana|          CA|      PHX|Phoenix Sky Harbo...|  Phoenix|        AZ| 3846|\n+-----------+--------------------+------------+------------+---------+--------------------+---------+----------+-----+\nonly showing top 5 rows\n\n"
     ]
    }
   ],
   "source": [
    "# Import necessary libraries\n",
    "from pyspark.sql import SparkSession\n",
    "from pyspark.sql.functions import approx_count_distinct, skewness, sum, avg, stddev\n",
    "\n",
    "# Load the csv into DataFrame\n",
    "flight_summary = spark.read.format(\"csv\").option(\"header\", \"true\").option(\"inferSchema\", \"true\").load(\"dbfs:/FileStore/flight_summary.csv\")\n",
    "flight_summary.show(5)\n"
   ]
  },
  {
   "cell_type": "code",
   "execution_count": 0,
   "metadata": {
    "application/vnd.databricks.v1+cell": {
     "cellMetadata": {
      "byteLimit": 2048000,
      "rowLimit": 10000
     },
     "inputWidgets": {},
     "nuid": "62cb7c85-d03a-4e54-ba50-cf3393c38509",
     "showTitle": false,
     "tableResultSettingsMap": {},
     "title": ""
    }
   },
   "outputs": [
    {
     "output_type": "stream",
     "name": "stdout",
     "output_type": "stream",
     "text": [
      "Number of unique origin airports: 322\n"
     ]
    }
   ],
   "source": [
    "# Number of unique origin airports\n",
    "unique_origin_airports = flight_summary.select(\"origin_airport\").distinct().count()\n",
    "print(f\"Number of unique origin airports: {unique_origin_airports}\")\n"
   ]
  },
  {
   "cell_type": "code",
   "execution_count": 0,
   "metadata": {
    "application/vnd.databricks.v1+cell": {
     "cellMetadata": {
      "byteLimit": 2048000,
      "rowLimit": 10000
     },
     "inputWidgets": {},
     "nuid": "6c9fb6e5-07ea-4cc7-9020-a053cca1be75",
     "showTitle": false,
     "tableResultSettingsMap": {},
     "title": ""
    }
   },
   "outputs": [
    {
     "output_type": "stream",
     "name": "stdout",
     "output_type": "stream",
     "text": [
      "+-------------------------------------+\n|approx_count_distinct(origin_airport)|\n+-------------------------------------+\n|                                  346|\n+-------------------------------------+\n\n"
     ]
    }
   ],
   "source": [
    "# Margin of error of 10%\n",
    "approx_unique_origin_airports = flight_summary.select(approx_count_distinct(\"origin_airport\", 0.1))\n",
    "approx_unique_origin_airports.show()\n",
    "\n",
    "# approx_count_distinct function is used to improve efficiency. Focuses more on performence than accuracy.\n"
   ]
  },
  {
   "cell_type": "code",
   "execution_count": 0,
   "metadata": {
    "application/vnd.databricks.v1+cell": {
     "cellMetadata": {
      "byteLimit": 2048000,
      "rowLimit": 10000
     },
     "inputWidgets": {},
     "nuid": "24cd1791-37b4-4aa4-9a50-caf999dfb534",
     "showTitle": false,
     "tableResultSettingsMap": {},
     "title": ""
    }
   },
   "outputs": [
    {
     "output_type": "stream",
     "name": "stdout",
     "output_type": "stream",
     "text": [
      "+-----------------+\n|  skewness(count)|\n+-----------------+\n|2.682183800064101|\n+-----------------+\n\n"
     ]
    }
   ],
   "source": [
    "# Outputs skewness of the \"count\" column\n",
    "skewness_result = flight_summary.select(skewness(\"count\"))\n",
    "skewness_result.show()\n",
    "\n",
    "# What does the function skewness determine\n",
    "# Skewness measures the asymmetry of a data distributiuon. Close to 0 is approximately symmetric, positive skew means tail long on the right, negative means tail long on the left.\n",
    "\n",
    "# What does the result indicate?\n",
    "# The result indicates that this is a positive right skew. Most values in the count column are on the lower end but there are ouitliers which would make the tail to the right."
   ]
  },
  {
   "cell_type": "code",
   "execution_count": 0,
   "metadata": {
    "application/vnd.databricks.v1+cell": {
     "cellMetadata": {
      "byteLimit": 2048000,
      "rowLimit": 10000
     },
     "inputWidgets": {},
     "nuid": "0cd87d93-c292-4ddc-82be-01f295ec77ab",
     "showTitle": false,
     "tableResultSettingsMap": {},
     "title": ""
    }
   },
   "outputs": [
    {
     "output_type": "stream",
     "name": "stdout",
     "output_type": "stream",
     "text": [
      "+----------+-----------------+----------+\n|dest_state|        dest_city|sum(count)|\n+----------+-----------------+----------+\n|        IL|          Chicago|    366790|\n|        GA|          Atlanta|    346904|\n|        TX|Dallas-Fort Worth|    239582|\n|        TX|          Houston|    198724|\n|        CO|           Denver|    196010|\n+----------+-----------------+----------+\n\n"
     ]
    }
   ],
   "source": [
    "# Outputs the top 5 most popular destination cities. You will need to group the data by destination state and destination city\n",
    "top_5_destinations = flight_summary.groupBy(\"dest_state\", \"dest_city\").sum(\"count\").orderBy(\"sum(count)\", ascending=False).limit(5)\n",
    "top_5_destinations.show()\n"
   ]
  },
  {
   "cell_type": "code",
   "execution_count": 0,
   "metadata": {
    "application/vnd.databricks.v1+cell": {
     "cellMetadata": {
      "byteLimit": 2048000,
      "rowLimit": 10000
     },
     "inputWidgets": {},
     "nuid": "a013aa05-1c0f-489e-baa7-bfdaa3a31039",
     "showTitle": false,
     "tableResultSettingsMap": {},
     "title": ""
    }
   },
   "outputs": [
    {
     "output_type": "stream",
     "name": "stdout",
     "output_type": "stream",
     "text": [
      "+--------------------+-------------+------------------+------------------+\n|      origin_airport|total_flights|   average_flights|    stddev_flights|\n+--------------------+-------------+------------------+------------------+\n|Melbourne Interna...|         1332|            1332.0|              null|\n|San Diego Interna...|        70207|1526.2391304347825| 1575.804150052814|\n|     Eppley Airfield|        16753| 797.7619047619048| 688.7479876385778|\n|     Kahului Airport|        20627|1145.9444444444443|1899.6718438664834|\n|Austin-Bergstrom ...|        42067|1026.0243902439024|1100.5043954434002|\n|Port Columbus Int...|        24187| 863.8214285714286| 823.0782804934813|\n|Waco Regional Air...|         1612|            1612.0|              null|\n|Sacramento Intern...|        37212|1378.2222222222222|1327.6026204963282|\n|Brownsville/South...|         2362|            1181.0| 172.5340546095176|\n|       Meadows Field|         2637|            659.25| 160.1527916293271|\n|Erie Internationa...|          746|             373.0| 374.7665940288702|\n|Destin-Fort Walto...|         4868|1622.6666666666667| 664.0800654539581|\n|Falls Internation...|          574|191.33333333333334| 169.5120448031152|\n|Worcester Regiona...|          663|             331.5|0.7071067811865476|\n|Fort Wayne Intern...|         5261|            1052.2| 750.4989673543862|\n|Santa Maria Publi...|          664|             332.0|117.37972567696688|\n|Great Falls Inter...|         1966| 655.3333333333334|308.61356634686905|\n|Charlotte Douglas...|       100324|1453.9710144927535|1389.1919887115773|\n|Atlantic City Int...|         3572|             357.2| 260.5156425245901|\n|Kona Internationa...|        11114| 926.1666666666666|1751.9021264345965|\n+--------------------+-------------+------------------+------------------+\nonly showing top 20 rows\n\n"
     ]
    }
   ],
   "source": [
    "# Groups the data by each origin airport and outputs the sum, average and standard deviation of the count column. Use the “.agg” function \n",
    "airport_stats = flight_summary.groupBy(\"origin_airport\").agg(sum(\"count\").alias(\"total_flights\"),avg(\"count\").alias(\"average_flights\"),stddev(\"count\").alias(\"stddev_flights\"))\n",
    "airport_stats.show()\n"
   ]
  }
 ],
 "metadata": {
  "application/vnd.databricks.v1+notebook": {
   "computePreferences": null,
   "dashboards": [],
   "environmentMetadata": {
    "base_environment": "",
    "client": "1"
   },
   "language": "python",
   "notebookMetadata": {
    "pythonIndentUnit": 4
   },
   "notebookName": "Lab6",
   "widgets": {}
  }
 },
 "nbformat": 4,
 "nbformat_minor": 0
}
