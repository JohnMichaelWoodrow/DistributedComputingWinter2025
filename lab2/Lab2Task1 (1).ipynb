{
 "cells": [
  {
   "cell_type": "code",
   "execution_count": 0,
   "metadata": {
    "application/vnd.databricks.v1+cell": {
     "cellMetadata": {
      "byteLimit": 2048000,
      "rowLimit": 10000
     },
     "inputWidgets": {},
     "nuid": "76c57229-8886-4606-90db-77fd77cde9d5",
     "showTitle": false,
     "tableResultSettingsMap": {},
     "title": ""
    }
   },
   "outputs": [
    {
     "output_type": "stream",
     "name": "stdout",
     "output_type": "stream",
     "text": [
      "Most common word: ('and', 686)\n"
     ]
    }
   ],
   "source": [
    "filePath = \"/FileStore/romeo.txt\"\n",
    "rdd = sc.textFile(filePath)\n",
    "\n",
    "wordCounts = (\n",
    "    rdd.flatMap(lambda line: line.split()) \n",
    "       .map(lambda word: (word.lower(), 1))  \n",
    "       .reduceByKey(lambda a, b: a + b)  \n",
    ")\n",
    "\n",
    "mostCommonWord = wordCounts.max(key=lambda x: x[1])  \n",
    "print(f\"Most common word: {mostCommonWord}\")\n",
    "\n"
   ]
  }
 ],
 "metadata": {
  "application/vnd.databricks.v1+notebook": {
   "computePreferences": null,
   "dashboards": [],
   "environmentMetadata": {
    "base_environment": "",
    "client": "1"
   },
   "language": "python",
   "notebookMetadata": {
    "mostRecentlyExecutedCommandWithImplicitDF": {
     "commandId": 217437766252603,
     "dataframes": [
      "_sqldf"
     ]
    },
    "pythonIndentUnit": 4
   },
   "notebookName": "Lab2Task1",
   "widgets": {}
  }
 },
 "nbformat": 4,
 "nbformat_minor": 0
}
