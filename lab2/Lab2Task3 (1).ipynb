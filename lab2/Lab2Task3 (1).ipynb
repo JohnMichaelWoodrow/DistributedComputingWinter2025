{
 "cells": [
  {
   "cell_type": "code",
   "execution_count": 0,
   "metadata": {
    "application/vnd.databricks.v1+cell": {
     "cellMetadata": {
      "byteLimit": 2048000,
      "rowLimit": 10000
     },
     "inputWidgets": {},
     "nuid": "8f77906f-4128-4151-ba0c-8f7a7d0f135a",
     "showTitle": false,
     "tableResultSettingsMap": {},
     "title": ""
    }
   },
   "outputs": [
    {
     "output_type": "stream",
     "name": "stdout",
     "output_type": "stream",
     "text": [
      "Stock with highest volume on Nov 27, 2009: NYSE\tCHK\t2009-11-27\t23.82\t24.49\t23.50\t24.17\t10631100\t24.10\nStock with highest earnings on Dec 8, 2009: NYSE\tCLW\t2009-12-08\t50.28\t57.31\t50.09\t54.69\t372600\t54.69\n"
     ]
    }
   ],
   "source": [
    "# Load the NYSE_daily dataset into an RDD\n",
    "nyseRdd = sc.textFile(\"/FileStore/NYSE_daily\")\n",
    "\n",
    "# Step 1: Remove malformed lines (Ensure at least 9 columns using tab delimiter)\n",
    "validRdd = nyseRdd.filter(lambda line: len(line.split(\"\\t\")) >= 9)\n",
    "\n",
    "\n",
    "# Filter out stocks with an opening value of $0\n",
    "filteredRdd = validRdd.filter(lambda line: float(line.split(\"\\t\")[3]) > 0)\n",
    "\n",
    "# Find the stock with the highest trading volume on Nov 27, 2009\n",
    "nov27Rdd = filteredRdd.filter(lambda line: line.split(\"\\t\")[2] == \"2009-11-27\")\n",
    "if nov27Rdd.isEmpty():\n",
    "    print(\"No data found for Nov 27, 2009\")\n",
    "else:\n",
    "    highestVolumeStock = nov27Rdd.max(key=lambda line: int(line.split(\"\\t\")[7]))\n",
    "    print(\"Stock with highest volume on Nov 27, 2009:\", highestVolumeStock)\n",
    "\n",
    "# Find the stock with the highest earnings on Dec 8, 2009\n",
    "dec8Rdd = filteredRdd.filter(lambda line: line.split(\"\\t\")[2] == \"2009-12-08\")\n",
    "if dec8Rdd.isEmpty():\n",
    "    print(\"No data found for Dec 8, 2009\")\n",
    "else:\n",
    "    highestEarningStock = dec8Rdd.max(key=lambda line: float(line.split(\"\\t\")[8]) - float(line.split(\"\\t\")[3]))\n",
    "    print(\"Stock with highest earnings on Dec 8, 2009:\", highestEarningStock)\n",
    "\n",
    "\n",
    "\n",
    "\n"
   ]
  }
 ],
 "metadata": {
  "application/vnd.databricks.v1+notebook": {
   "computePreferences": null,
   "dashboards": [],
   "environmentMetadata": {
    "base_environment": "",
    "client": "1"
   },
   "language": "python",
   "notebookMetadata": {
    "pythonIndentUnit": 4
   },
   "notebookName": "Lab2Task3",
   "widgets": {}
  }
 },
 "nbformat": 4,
 "nbformat_minor": 0
}
