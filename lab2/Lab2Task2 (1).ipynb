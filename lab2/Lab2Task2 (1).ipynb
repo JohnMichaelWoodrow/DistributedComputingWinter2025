{
 "cells": [
  {
   "cell_type": "code",
   "execution_count": 0,
   "metadata": {
    "application/vnd.databricks.v1+cell": {
     "cellMetadata": {
      "byteLimit": 2048000,
      "rowLimit": 10000
     },
     "inputWidgets": {},
     "nuid": "a1c0c915-9387-4ef2-95d0-7a1f639df206",
     "showTitle": false,
     "tableResultSettingsMap": {},
     "title": ""
    }
   },
   "outputs": [
    {
     "output_type": "stream",
     "name": "stdout",
     "output_type": "stream",
     "text": [
      "[2, 4, 6]\n[2, 4, 6, 8, 10]\n[1, 1, 2, 4, 3]\n[1, 2, 3]\n[1, 2, 3, 4, 5, 6]\n21\n"
     ]
    }
   ],
   "source": [
    "rdd = sc.parallelize([1, 2, 3, 4, 5, 6])  \n",
    "\n",
    "# Filter: Keep only even numbers\n",
    "filtered_rdd = rdd.filter(lambda x: x % 2 == 0)\n",
    "print(filtered_rdd.take(5))  \n",
    "\n",
    "# Map: Multiply each number by 2\n",
    "mapped_rdd = rdd.map(lambda x: x * 2)\n",
    "print(mapped_rdd.take(5)) \n",
    "\n",
    "# FlatMap: Create multiple outputs per input\n",
    "flatmapped_rdd = rdd.flatMap(lambda x: (x, x ** 2))\n",
    "print(flatmapped_rdd.take(5))  \n",
    "\n",
    "# Take: Get the first 3 elements\n",
    "print(rdd.take(3))  \n",
    "\n",
    "# Collect: Get all elements\n",
    "print(rdd.collect())  \n",
    "\n",
    "# Reduce: Sum all elements\n",
    "total = rdd.reduce(lambda a, b: a + b)\n",
    "print(total) \n"
   ]
  }
 ],
 "metadata": {
  "application/vnd.databricks.v1+notebook": {
   "computePreferences": null,
   "dashboards": [],
   "environmentMetadata": {
    "base_environment": "",
    "client": "1"
   },
   "language": "python",
   "notebookMetadata": {
    "pythonIndentUnit": 4
   },
   "notebookName": "Lab2Task2",
   "widgets": {}
  }
 },
 "nbformat": 4,
 "nbformat_minor": 0
}
