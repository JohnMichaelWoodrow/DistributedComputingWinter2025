{
 "cells": [
  {
   "cell_type": "code",
   "execution_count": 0,
   "metadata": {
    "application/vnd.databricks.v1+cell": {
     "cellMetadata": {
      "byteLimit": 2048000,
      "rowLimit": 10000
     },
     "inputWidgets": {},
     "nuid": "a16ccdd6-9ba1-4473-9cb6-7553b387f216",
     "showTitle": false,
     "tableResultSettingsMap": {},
     "title": ""
    }
   },
   "outputs": [
    {
     "output_type": "stream",
     "name": "stdout",
     "output_type": "stream",
     "text": [
      "+------------+--------------------------------------------------------------------------------------+\n|manufacturer|unique_models                                                                         |\n+------------+--------------------------------------------------------------------------------------+\n|land rover  |[range rover]                                                                         |\n|pontiac     |[grand prix]                                                                          |\n|toyota      |[4runner 4wd, camry solara, corolla, land cruiser wagon 4wd, toyota tacoma 4wd, camry]|\n|lincoln     |[navigator 2wd]                                                                       |\n|audi        |[a4, a6 quattro, a4 quattro]                                                          |\n|jeep        |[grand cherokee 4wd]                                                                  |\n|dodge       |[durango 4wd, ram 1500 pickup 4wd, dakota pickup 4wd, caravan 2wd]                    |\n|hyundai     |[sonata, tiburon]                                                                     |\n|ford        |[explorer 4wd, f150 pickup 4wd, expedition 2wd, mustang]                              |\n|chevrolet   |[k1500 tahoe 4wd, c1500 suburban 2wd, corvette, malibu]                               |\n|honda       |[civic]                                                                               |\n|volkswagen  |[jetta, passat, new beetle, gti]                                                      |\n|mercury     |[mountaineer 4wd]                                                                     |\n|nissan      |[altima, maxima, pathfinder 4wd]                                                      |\n|subaru      |[impreza awd, forester awd]                                                           |\n+------------+--------------------------------------------------------------------------------------+\n\n"
     ]
    }
   ],
   "source": [
    "from pyspark.sql.functions import collect_set\n",
    "\n",
    "mpg_df = spark.read.csv(\"dbfs:/FileStore/mpg.csv\", header=True, inferSchema=True)\n",
    "mpg_grouped = mpg_df.groupBy(\"manufacturer\").agg(collect_set(\"model\").alias(\"unique_models\"))\n",
    "mpg_grouped.show(truncate=False)"
   ]
  },
  {
   "cell_type": "code",
   "execution_count": 0,
   "metadata": {
    "application/vnd.databricks.v1+cell": {
     "cellMetadata": {
      "byteLimit": 2048000,
      "rowLimit": 10000
     },
     "inputWidgets": {},
     "nuid": "5ee07c68-9c23-434a-ac7a-9b8cf55c7c04",
     "showTitle": false,
     "tableResultSettingsMap": {},
     "title": ""
    }
   },
   "outputs": [
    {
     "output_type": "stream",
     "name": "stdout",
     "output_type": "stream",
     "text": [
      "+----+---+----+---------+-----+----+-----+-------+----+----------+-------+-------+------+-------+------+------+----------+\n|year|cyl|audi|chevrolet|dodge|ford|honda|hyundai|jeep|land rover|lincoln|mercury|nissan|pontiac|subaru|toyota|volkswagen|\n+----+---+----+---------+-----+----+-----+-------+----+----------+-------+-------+------+-------+------+------+----------+\n|2008|  8|16.0|     13.6| 11.9|13.6| null|   null|11.8|      12.0|   12.0|   13.0|  12.0|   16.0|  null|  13.5|      null|\n|1999|  4|18.3|     19.0| 18.0|null| 24.8|   18.5|null|      null|   null|   null|  20.0|   null|  19.0|  20.0|      23.3|\n|1999|  6|16.2|     18.0| 14.9|15.3| null|   18.0|15.0|      null|   null|   14.0|  16.5|   17.0|  null|  16.5|      16.8|\n|2008|  6|16.8|     17.5| 15.1|15.3| null|   17.3|16.0|      null|   null|   13.0|  17.8|   18.0|  null|  16.8|      17.0|\n|2008|  5|null|     null| null|null| null|   null|null|      null|   null|   null|  null|   null|  null|  null|      20.5|\n|2008|  4|20.0|     22.0| null|null| 24.0|   20.5|null|      null|   null|   null|  23.0|   null|  19.5|  22.3|      21.0|\n|1999|  8|null|     13.8| 11.0|12.8| null|   null|14.0|      11.0|   11.0|   13.0|  null|   null|  null|  11.0|      null|\n+----+---+----+---------+-----+----+-----+-------+----+----------+-------+-------+------+-------+------+------+----------+\n\n"
     ]
    }
   ],
   "source": [
    "from pyspark.sql.functions import round, avg\n",
    "\n",
    "# Pivot and calculate average city mpg\n",
    "mpg_pivoted = (mpg_df.groupBy(\"year\", \"cyl\").pivot(\"manufacturer\").agg(round(avg(\"cty\"), 1)))\n",
    "mpg_pivoted.show()\n"
   ]
  },
  {
   "cell_type": "code",
   "execution_count": 0,
   "metadata": {
    "application/vnd.databricks.v1+cell": {
     "cellMetadata": {
      "byteLimit": 2048000,
      "rowLimit": 10000
     },
     "inputWidgets": {},
     "nuid": "ddf9c5d5-d242-493a-b179-7a262554a24e",
     "showTitle": false,
     "tableResultSettingsMap": {},
     "title": ""
    }
   },
   "outputs": [
    {
     "output_type": "stream",
     "name": "stdout",
     "output_type": "stream",
     "text": [
      "+-----------+-------------------------------------------------------+----------+----------+---------+-----------------------------------------------------------------------------+--------+----------+------------+\n|origin_code|origin_airport                                         |origin_lat|origin_lon|dest_code|dest_airport                                                                 |dest_lat|dest_lon  |origin_state|\n+-----------+-------------------------------------------------------+----------+----------+---------+-----------------------------------------------------------------------------+--------+----------+------------+\n|LBB        |Lubbock Preston Smith International Airport            |33.66364  |-101.82278|DEN      |Denver International Airport                                                 |39.85841|-104.667  |TX          |\n|AUS        |Austin-Bergstrom International Airport                 |30.19453  |-97.66987 |ELP      |El Paso International Airport                                                |31.80667|-106.37781|TX          |\n|HOU        |William P. Hobby Airport                               |29.64542  |-95.27889 |PDX      |Portland International Airport                                               |45.58872|-122.5975 |TX          |\n|DFW        |Dallas/Fort Worth International Airport                |32.89595  |-97.0372  |PNS      |Pensacola International Airport (Pensacola Gulf Coast Regional Airport)      |30.47331|-87.18744 |TX          |\n|DFW        |Dallas/Fort Worth International Airport                |32.89595  |-97.0372  |SDF      |Louisville International Airport (Standiford Field)                          |38.17439|-85.736   |TX          |\n|BPT        |Jack Brooks Regional Airport (Southeast Texas Regional)|29.95083  |-94.02069 |DFW      |Dallas/Fort Worth International Airport                                      |32.89595|-97.0372  |TX          |\n|DFW        |Dallas/Fort Worth International Airport                |32.89595  |-97.0372  |HOU      |William P. Hobby Airport                                                     |29.64542|-95.27889 |TX          |\n|SAT        |San Antonio International Airport                      |29.53369  |-98.46978 |LAS      |McCarran International Airport                                               |36.08036|-115.15233|TX          |\n|IAH        |George Bush Intercontinental Airport                   |29.98047  |-95.33972 |LIT      |Bill and Hillary Clinton National Airport (Adams Field)                      |34.7294 |-92.22425 |TX          |\n|IAH        |George Bush Intercontinental Airport                   |29.98047  |-95.33972 |BZN      |Bozeman Yellowstone International Airport (Gallatin Field Airport)           |45.7769 |-111.15301|TX          |\n|DFW        |Dallas/Fort Worth International Airport                |32.89595  |-97.0372  |VPS      |Destin-Fort Walton Beach Airport/Eglin AFB                                   |30.48325|-86.5254  |TX          |\n|ELP        |El Paso International Airport                          |31.80667  |-106.37781|LAS      |McCarran International Airport                                               |36.08036|-115.15233|TX          |\n|DAL        |Dallas Love Field                                      |32.84711  |-96.85177 |ICT      |Wichita Dwight D. Eisenhower National Airport (Wichita Mid-Continent Airport)|37.64996|-97.43305 |TX          |\n|LBB        |Lubbock Preston Smith International Airport            |33.66364  |-101.82278|IAH      |George Bush Intercontinental Airport                                         |29.98047|-95.33972 |TX          |\n|IAH        |George Bush Intercontinental Airport                   |29.98047  |-95.33972 |GSP      |Greenville-Spartanburg International Airport                                 |34.89567|-82.21886 |TX          |\n|DAL        |Dallas Love Field                                      |32.84711  |-96.85177 |IAH      |George Bush Intercontinental Airport                                         |29.98047|-95.33972 |TX          |\n|IAH        |George Bush Intercontinental Airport                   |29.98047  |-95.33972 |DEN      |Denver International Airport                                                 |39.85841|-104.667  |TX          |\n|CRP        |Corpus Christi International Airport                   |27.77036  |-97.50122 |IAH      |George Bush Intercontinental Airport                                         |29.98047|-95.33972 |TX          |\n|AMA        |Rick Husband Amarillo International Airport            |35.21937  |-101.70593|DAL      |Dallas Love Field                                                            |32.84711|-96.85177 |TX          |\n|AUS        |Austin-Bergstrom International Airport                 |30.19453  |-97.66987 |IAD      |Washington Dulles International Airport                                      |38.94453|-77.45581 |TX          |\n+-----------+-------------------------------------------------------+----------+----------+---------+-----------------------------------------------------------------------------+--------+----------+------------+\nonly showing top 20 rows\n\n"
     ]
    }
   ],
   "source": [
    "flights_df = spark.read.csv(\"dbfs:/FileStore/flight_summary___Copy.csv\", header=True, inferSchema=True)\n",
    "airports_df = spark.read.csv(\"dbfs:/FileStore/airports.csv\", header=True, inferSchema=True)\n",
    "\n",
    "airports_df = airports_df.withColumnRenamed(\"IATA_CODE\", \"airport_code\").withColumnRenamed(\"AIRPORT\", \"airport_name\").withColumnRenamed(\"LATITUDE\", \"lat\").withColumnRenamed(\"LONGITUDE\", \"lon\")\n",
    "\n",
    "# Prevent column conflicts\n",
    "airports_df_origin = airports_df.withColumnRenamed(\"airport_name\", \"origin_airport\").withColumnRenamed(\"lat\", \"origin_lat\").withColumnRenamed(\"lon\", \"origin_lon\").withColumnRenamed(\"airport_code\", \"origin_airport_code\")  \n",
    "airports_df_dest = airports_df.withColumnRenamed(\"airport_name\", \"dest_airport\").withColumnRenamed(\"lat\", \"dest_lat\").withColumnRenamed(\"lon\", \"dest_lon\").withColumnRenamed(\"airport_code\", \"dest_airport_code\")  \n",
    "\n",
    "# Join origin \n",
    "flights_with_orig = flights_df.join(\n",
    "    airports_df_origin, flights_df[\"origin_code\"] == airports_df_origin[\"origin_airport_code\"], \"left\").select(\n",
    "    flights_df[\"origin_code\"], airports_df_origin[\"origin_airport\"],\n",
    "    airports_df_origin[\"origin_lat\"], airports_df_origin[\"origin_lon\"],\n",
    "    flights_df[\"dest_code\"], airports_df_origin[\"STATE\"].alias(\"origin_state\")\n",
    ")\n",
    "\n",
    "# Join destination \n",
    "flights_final = flights_with_orig.join(\n",
    "    airports_df_dest, flights_with_orig[\"dest_code\"] == airports_df_dest[\"dest_airport_code\"], \"left\").select(\n",
    "    flights_with_orig[\"origin_code\"], flights_with_orig[\"origin_airport\"],\n",
    "    flights_with_orig[\"origin_lat\"], flights_with_orig[\"origin_lon\"],\n",
    "    flights_with_orig[\"dest_code\"], airports_df_dest[\"dest_airport\"],\n",
    "    airports_df_dest[\"dest_lat\"], airports_df_dest[\"dest_lon\"],\n",
    "    flights_with_orig[\"origin_state\"] \n",
    ")\n",
    "\n",
    "# Filter for Texas\n",
    "texas_flights = flights_final.filter(flights_final[\"origin_state\"] == \"TX\")\n",
    "texas_flights.show(truncate=False)\n",
    "\n"
   ]
  },
  {
   "cell_type": "code",
   "execution_count": 0,
   "metadata": {
    "application/vnd.databricks.v1+cell": {
     "cellMetadata": {
      "byteLimit": 2048000,
      "rowLimit": 10000
     },
     "inputWidgets": {},
     "nuid": "37386280-f7d9-4937-9435-32319ac0e2e5",
     "showTitle": false,
     "tableResultSettingsMap": {},
     "title": ""
    }
   },
   "outputs": [
    {
     "output_type": "stream",
     "name": "stdout",
     "output_type": "stream",
     "text": [
      "+----------+----------+----------+----------+----------+----------+--------+----+------------------+\n|      Date|      Open|      High|       Low|     Close| Adj Close|  Volume|week|  weekly_avg_price|\n+----------+----------+----------+----------+----------+----------+--------+----+------------------+\n|2017-01-03|115.800003|116.330002|114.760002|116.150002| 114.31176|28781900|   1|        116.150002|\n|2017-01-04|115.849998|116.510002|    115.75|116.019997|114.183815|21118100|   1|116.08499950000001|\n|2017-01-05|115.919998|116.860001|115.809998|116.610001|114.764473|22193600|   1|            116.26|\n|2017-01-06|116.779999|118.160004|116.470001|117.910004|116.043915|31751900|   1|116.67250100000001|\n|2017-01-09|117.949997|    119.43|117.940002|118.989998|117.106812|33561900|   2|        118.989998|\n|2017-01-10|118.769997|119.379997|118.300003|119.110001|117.224907|24462100|   2|       119.0499995|\n|2017-01-11|118.739998|    119.93|118.599998|    119.75|117.854782|27588600|   2|119.28333300000001|\n|2017-01-12|118.900002|119.300003|118.209999|    119.25|117.362694|27086200|   2|      119.27499975|\n|2017-01-13|119.110001|119.620003|118.809998|119.040001|117.156021|26111900|   2|           119.228|\n|2017-01-17|118.339996|120.239998|118.220001|     120.0|118.100822|34439800|   3|             120.0|\n|2017-01-18|     120.0|     120.5|119.709999|119.989998|118.090981|23713000|   3|        119.994999|\n|2017-01-19|119.400002|120.089996|119.370003|119.779999|  117.8843|25597300|   3|119.92333233333333|\n|2017-01-20|120.449997|120.449997|119.730003|     120.0|118.100822|32597900|   3|      119.94249925|\n|2017-01-23|     120.0|120.809998|119.769997|120.080002|118.179558|22050200|   4|        120.080002|\n|2017-01-24|119.550003|120.099998|     119.5|119.970001|118.071304|23211000|   4|       120.0250015|\n|2017-01-25|120.419998|122.099998|120.279999|121.879997|119.951073|32377600|   4|120.64333333333333|\n|2017-01-26|121.669998|122.440002|121.599998|121.940002|120.010132|26337600|   4|       120.9675005|\n|2017-01-27|122.139999|122.349998|121.599998|121.949997|120.019958|20562900|   4|121.16399980000001|\n|2017-01-30|    120.93|121.629997|120.660004|121.629997|119.705017|30377500|   5|        121.629997|\n|2017-01-31|121.150002|121.389999|120.620003|121.349998|119.429459|49201000|   5|       121.4899975|\n+----------+----------+----------+----------+----------+----------+--------+----+------------------+\nonly showing top 20 rows\n\n"
     ]
    }
   ],
   "source": [
    "from pyspark.sql.window import Window\n",
    "from pyspark.sql.functions import avg, weekofyear\n",
    "\n",
    "aapl_df = spark.read.csv(\"dbfs:/FileStore/aapl_2017.csv\", header=True, inferSchema=True)\n",
    "\n",
    "aapl_df = aapl_df.withColumn(\"week\", weekofyear(aapl_df[\"Date\"]))\n",
    "window_spec = Window.partitionBy(\"week\").orderBy(\"Date\")\n",
    "aapl_weekly_avg = aapl_df.withColumn(\"weekly_avg_price\", avg(\"Close\").over(window_spec))\n",
    "aapl_weekly_avg.orderBy(\"Date\").show()\n",
    "\n"
   ]
  }
 ],
 "metadata": {
  "application/vnd.databricks.v1+notebook": {
   "computePreferences": null,
   "dashboards": [],
   "environmentMetadata": {
    "base_environment": "",
    "client": "1"
   },
   "language": "python",
   "notebookMetadata": {
    "pythonIndentUnit": 4
   },
   "notebookName": "Lab7",
   "widgets": {}
  }
 },
 "nbformat": 4,
 "nbformat_minor": 0
}
