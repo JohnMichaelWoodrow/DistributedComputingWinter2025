{
 "cells": [
  {
   "cell_type": "code",
   "execution_count": 0,
   "metadata": {
    "application/vnd.databricks.v1+cell": {
     "cellMetadata": {
      "byteLimit": 2048000,
      "rowLimit": 10000
     },
     "inputWidgets": {},
     "nuid": "b2623807-e838-4569-ab87-edb1c9bf1ccf",
     "showTitle": false,
     "tableResultSettingsMap": {},
     "title": ""
    }
   },
   "outputs": [
    {
     "output_type": "stream",
     "name": "stdout",
     "output_type": "stream",
     "text": [
      "True\n"
     ]
    }
   ],
   "source": [
    "from pyspark.sql.types import StructType, StringType, TimestampType\n",
    "from pyspark.sql.functions import window\n",
    "\n",
    "mobile_data_schema = StructType().add(\"id\", StringType(), False).add(\"action\", StringType(), False).add(\"ts\", TimestampType(), False)\n",
    "\n",
    "# Create a streaming DataFrame from JSON files in the specified directory\n",
    "mobile_ss_df = spark.readStream.schema(mobile_data_schema).json(\"/FileStore/mobile\") \n",
    "\n",
    "# Check if the DataFrame is a streaming DataFrame\n",
    "print(mobile_ss_df.isStreaming)\n",
    "\n",
    "# Group by a 10 minute window and action, then count occurrences\n",
    "action_count_df = mobile_ss_df.groupBy(window(\"ts\", \"10 minutes\"), \"action\").count()\n",
    "\n",
    "mobile_console_sq = action_count_df.writeStream.format(\"console\").option(\"truncate\", \"false\").outputMode(\"complete\").start()"
   ]
  },
  {
   "cell_type": "code",
   "execution_count": 0,
   "metadata": {
    "application/vnd.databricks.v1+cell": {
     "cellMetadata": {
      "byteLimit": 2048000,
      "rowLimit": 10000
     },
     "inputWidgets": {},
     "nuid": "738bb03d-8510-4f29-90fe-6dcbd3eccb0e",
     "showTitle": false,
     "tableResultSettingsMap": {},
     "title": ""
    }
   },
   "outputs": [
    {
     "output_type": "display_data",
     "data": {
      "text/html": [
       "<style scoped>\n",
       "  .table-result-container {\n",
       "    max-height: 300px;\n",
       "    overflow: auto;\n",
       "  }\n",
       "  table, th, td {\n",
       "    border: 1px solid black;\n",
       "    border-collapse: collapse;\n",
       "  }\n",
       "  th, td {\n",
       "    padding: 5px;\n",
       "  }\n",
       "  th {\n",
       "    text-align: left;\n",
       "  }\n",
       "</style><div class='table-result-container'><table class='table-result'><thead style='background-color: white'><tr><th>window</th><th>action</th><th>count</th></tr></thead><tbody><tr><td>List(2018-03-02T10:00:00.000+0000, 2018-03-02T10:10:00.000+0000)</td><td>open</td><td>4</td></tr><tr><td>List(2018-03-02T11:00:00.000+0000, 2018-03-02T11:10:00.000+0000)</td><td>crash</td><td>3</td></tr><tr><td>List(2018-03-02T10:10:00.000+0000, 2018-03-02T10:20:00.000+0000)</td><td>open</td><td>1</td></tr><tr><td>List(2018-03-02T10:00:00.000+0000, 2018-03-02T10:10:00.000+0000)</td><td>close</td><td>3</td></tr><tr><td>List(2018-03-02T11:10:00.000+0000, 2018-03-02T11:20:00.000+0000)</td><td>swipe</td><td>3</td></tr></tbody></table></div>"
      ]
     },
     "metadata": {
      "application/vnd.databricks.v1+output": {
       "addedWidgets": {},
       "aggData": [],
       "aggError": "",
       "aggOverflow": false,
       "aggSchema": [],
       "aggSeriesLimitReached": false,
       "aggType": "",
       "arguments": {},
       "columnCustomDisplayInfos": {},
       "data": [
        [
         [
          "2018-03-02T10:00:00.000+0000",
          "2018-03-02T10:10:00.000+0000"
         ],
         "open",
         4
        ],
        [
         [
          "2018-03-02T11:00:00.000+0000",
          "2018-03-02T11:10:00.000+0000"
         ],
         "crash",
         3
        ],
        [
         [
          "2018-03-02T10:10:00.000+0000",
          "2018-03-02T10:20:00.000+0000"
         ],
         "open",
         1
        ],
        [
         [
          "2018-03-02T10:00:00.000+0000",
          "2018-03-02T10:10:00.000+0000"
         ],
         "close",
         3
        ],
        [
         [
          "2018-03-02T11:10:00.000+0000",
          "2018-03-02T11:20:00.000+0000"
         ],
         "swipe",
         3
        ]
       ],
       "datasetInfos": [],
       "dbfsResultPath": null,
       "isJsonSchema": true,
       "metadata": {
        "isDbfsCommandResult": false
       },
       "overflow": false,
       "plotOptions": {
        "customPlotOptions": {},
        "displayType": "table",
        "pivotAggregation": null,
        "pivotColumns": null,
        "xColumns": null,
        "yColumns": null
       },
       "removedWidgets": [],
       "schema": [
        {
         "metadata": "{\"spark.timeWindow\":true}",
         "name": "window",
         "type": "{\"type\":\"struct\",\"fields\":[{\"name\":\"start\",\"type\":\"timestamp\",\"nullable\":true,\"metadata\":{}},{\"name\":\"end\",\"type\":\"timestamp\",\"nullable\":true,\"metadata\":{}}]}"
        },
        {
         "metadata": "{}",
         "name": "action",
         "type": "\"string\""
        },
        {
         "metadata": "{}",
         "name": "count",
         "type": "\"long\""
        }
       ],
       "type": "table"
      }
     },
     "output_type": "display_data"
    }
   ],
   "source": [
    "display(action_count_df)"
   ]
  },
  {
   "cell_type": "code",
   "execution_count": 0,
   "metadata": {
    "application/vnd.databricks.v1+cell": {
     "cellMetadata": {},
     "inputWidgets": {},
     "nuid": "2448c64c-2187-4311-83b3-3354beec3a0c",
     "showTitle": false,
     "tableResultSettingsMap": {},
     "title": ""
    }
   },
   "outputs": [],
   "source": [
    "# Question 7:\n",
    "\n",
    "# The data would change due to the addition of the new file. New actions/timestamps are processed and the output would include any new additions in the time window."
   ]
  },
  {
   "cell_type": "code",
   "execution_count": 0,
   "metadata": {
    "application/vnd.databricks.v1+cell": {
     "cellMetadata": {
      "byteLimit": 2048000,
      "rowLimit": 10000
     },
     "inputWidgets": {},
     "nuid": "2693aae3-0e88-43da-8168-aba3d1464bea",
     "showTitle": false,
     "tableResultSettingsMap": {},
     "title": ""
    }
   },
   "outputs": [],
   "source": [
    "mobile_console_sq.stop()"
   ]
  },
  {
   "cell_type": "code",
   "execution_count": 0,
   "metadata": {
    "application/vnd.databricks.v1+cell": {
     "cellMetadata": {},
     "inputWidgets": {},
     "nuid": "3f244ba3-1b61-4153-a02b-012814129660",
     "showTitle": false,
     "tableResultSettingsMap": {},
     "title": ""
    }
   },
   "outputs": [],
   "source": [
    "# Question 9:\n",
    "\n",
    "# Data Source: JSON file stream. Reads the JSON files as theyre added to the folder.\n",
    "\n",
    "# Output Mode: Complete. Everytime a new batch is processed the entire result is output. Not just the changes.\n",
    "\n",
    "# Trigger Type: Default. Processes data in small batches during the set time window.\n",
    "\n",
    "# Data Sink: Console. Results of the streaming job are output in the console."
   ]
  },
  {
   "cell_type": "code",
   "execution_count": 0,
   "metadata": {
    "application/vnd.databricks.v1+cell": {
     "cellMetadata": {},
     "inputWidgets": {},
     "nuid": "8769a98a-9a9e-44d9-91fb-ae41e6e85cb5",
     "showTitle": false,
     "tableResultSettingsMap": {},
     "title": ""
    }
   },
   "outputs": [],
   "source": [
    "# Question 10:\n",
    "\n",
    "# Reads JSON data from the mobile folder, parses it using the schema and aggregates the data in a 10 min window. Groups the data by the action field and counts the number of  # times each action occurs in each window. Results are then output to the console in a complete mode. "
   ]
  }
 ],
 "metadata": {
  "application/vnd.databricks.v1+notebook": {
   "computePreferences": null,
   "dashboards": [],
   "environmentMetadata": {
    "base_environment": "",
    "environment_version": "1"
   },
   "inputWidgetPreferences": null,
   "language": "python",
   "notebookMetadata": {
    "pythonIndentUnit": 4
   },
   "notebookName": "Lab9",
   "widgets": {}
  }
 },
 "nbformat": 4,
 "nbformat_minor": 0
}
