{
 "cells": [
  {
   "cell_type": "code",
   "execution_count": 0,
   "metadata": {
    "application/vnd.databricks.v1+cell": {
     "cellMetadata": {
      "byteLimit": 2048000,
      "rowLimit": 10000
     },
     "inputWidgets": {},
     "nuid": "d0a22373-92f7-4d0e-9701-69ac98291260",
     "showTitle": false,
     "tableResultSettingsMap": {},
     "title": ""
    }
   },
   "outputs": [
    {
     "output_type": "stream",
     "name": "stdout",
     "output_type": "stream",
     "text": [
      "+--------+-----------+----------+--------------------+----+-------------------+--------------------+--------------------+------+--------+----+--------+----+--------------+--------+------------+------------+----+--------------------+--------+---------+--------+\n|      ID|Case Number|      Date|               Block|IUCR|       Primary Type|         Description|Location Description|Arrest|Domestic|Beat|District|Ward|Community Area|FBI Code|X Coordinate|Y Coordinate|Year|          Updated On|Latitude|Longitude|Location|\n+--------+-----------+----------+--------------------+----+-------------------+--------------------+--------------------+------+--------+----+--------+----+--------------+--------+------------+------------+----+--------------------+--------+---------+--------+\n|11227634|   JB147599|2017-08-26| 001XX W RANDOLPH ST|0281|CRIM SEXUAL ASSAULT|      NON-AGGRAVATED|         HOTEL/MOTEL| false|   false| 122|       1|  42|            32|      02|        null|        null|2017|02/11/2018 03:57:...|    null|     null|    null|\n|11037549|   JA371812|2017-07-30| 004XX N DEARBORN ST|0870|              THEFT|      POCKET-PICKING|               ALLEY| false|   false|1831|      18|  42|             8|      06|        null|        null|2017|08/06/2017 03:53:...|    null|     null|    null|\n|11228565|   JB148941|2017-12-16|102XX S EBERHART AVE|0610|           BURGLARY|      FORCIBLE ENTRY|     VACANT LOT/LAND| false|   false| 511|       5|   9|            49|      05|        null|        null|2017|02/12/2018 03:49:...|    null|     null|    null|\n|11243119|   JB168573|2017-11-02|   063XX N MOZART ST|2825|      OTHER OFFENSE|HARASSMENT BY TEL...|           APARTMENT| false|   false|2413|      24|  50|             2|      26|        null|        null|2017|03/01/2018 03:54:...|    null|     null|    null|\n|11229320|   JB150109|2017-09-29|058XX N CUMBERLAN...|0820|              THEFT|      $500 AND UNDER|         CTA STATION| false|   false|1614|      16|  41|            76|      06|        null|        null|2017|02/13/2018 03:58:...|    null|     null|    null|\n+--------+-----------+----------+--------------------+----+-------------------+--------------------+--------------------+------+--------+----+--------+----+--------------+--------+------------+------------+----+--------------------+--------+---------+--------+\nonly showing top 5 rows\n\n"
     ]
    }
   ],
   "source": [
    "from pyspark.sql.functions import to_date, col, desc, count, lower, lit\n",
    "\n",
    "data = spark.read.csv('dbfs:/FileStore/crimes_2017.csv', header=True, inferSchema=True).withColumn('Date', to_date(col('Date'), 'MM/dd/yyyy hh:mm:ss a'))\n",
    "data.show(5)\n"
   ]
  },
  {
   "cell_type": "code",
   "execution_count": 0,
   "metadata": {
    "application/vnd.databricks.v1+cell": {
     "cellMetadata": {
      "byteLimit": 2048000,
      "rowLimit": 10000
     },
     "inputWidgets": {},
     "nuid": "7213ff08-ea9e-474f-b092-7e67116ff19c",
     "showTitle": false,
     "tableResultSettingsMap": {},
     "title": ""
    }
   },
   "outputs": [
    {
     "output_type": "stream",
     "name": "stdout",
     "output_type": "stream",
     "text": [
      "+----------+-----+\n|      Date|count|\n+----------+-----+\n|2017-01-01| 1256|\n|2017-08-01|  965|\n|2017-07-01|  937|\n|2017-08-05|  928|\n|2017-08-04|  926|\n+----------+-----+\nonly showing top 5 rows\n\n"
     ]
    }
   ],
   "source": [
    "# Group by date and count the number of crimes per day\n",
    "top_dates = data.groupBy('Date').count().orderBy(desc('count'))\n",
    "\n",
    "# Display top 5 dates with the most reported crimes\n",
    "top_dates.show(5)\n"
   ]
  },
  {
   "cell_type": "code",
   "execution_count": 0,
   "metadata": {
    "application/vnd.databricks.v1+cell": {
     "cellMetadata": {
      "byteLimit": 2048000,
      "rowLimit": 10000
     },
     "inputWidgets": {},
     "nuid": "27c1aa20-a0aa-4540-a358-e638853908e7",
     "showTitle": false,
     "tableResultSettingsMap": {},
     "title": ""
    }
   },
   "outputs": [
    {
     "output_type": "stream",
     "name": "stdout",
     "output_type": "stream",
     "text": [
      "+------------------+-----+\n|      Primary Type|count|\n+------------------+-----+\n|DECEPTIVE PRACTICE|  208|\n|           BATTERY|  207|\n|             THEFT|  187|\n+------------------+-----+\nonly showing top 3 rows\n\n"
     ]
    }
   ],
   "source": [
    "# Get the date with the most reported crimes\n",
    "most_crimes_date = top_dates.first()['Date']\n",
    "\n",
    "# Filter data for that date and count occurrences of each crime\n",
    "top_crimes = data.filter(col('Date') == lit(most_crimes_date)).groupBy('Primary Type').count().orderBy(desc('count'))\n",
    "\n",
    "# Display top 3 crimes on the most crime-heavy day\n",
    "top_crimes.show(3)\n"
   ]
  },
  {
   "cell_type": "code",
   "execution_count": 0,
   "metadata": {
    "application/vnd.databricks.v1+cell": {
     "cellMetadata": {
      "byteLimit": 2048000,
      "rowLimit": 10000
     },
     "inputWidgets": {},
     "nuid": "92489792-2b66-4eb6-b4cc-183343381bfa",
     "showTitle": false,
     "tableResultSettingsMap": {},
     "title": ""
    }
   },
   "outputs": [
    {
     "output_type": "stream",
     "name": "stdout",
     "output_type": "stream",
     "text": [
      "+-----+-----+\n|Month|count|\n+-----+-----+\n|    7|24889|\n+-----+-----+\nonly showing top 1 row\n\n"
     ]
    }
   ],
   "source": [
    "from pyspark.sql.functions import month\n",
    "\n",
    "# Extract month from 'Date' and count crimes per month\n",
    "crimes_by_month = data.withColumn('Month', month(col('Date'))).groupBy('Month').count().orderBy(desc('count'))\n",
    "\n",
    "# Display the month with the most crimes\n",
    "crimes_by_month.show(1)\n"
   ]
  },
  {
   "cell_type": "code",
   "execution_count": 0,
   "metadata": {
    "application/vnd.databricks.v1+cell": {
     "cellMetadata": {
      "byteLimit": 2048000,
      "rowLimit": 10000
     },
     "inputWidgets": {},
     "nuid": "2cc953fb-029d-45c9-902f-01ce8db044d2",
     "showTitle": false,
     "tableResultSettingsMap": {},
     "title": ""
    }
   },
   "outputs": [
    {
     "output_type": "stream",
     "name": "stdout",
     "output_type": "stream",
     "text": [
      "+--------------------------------------------------+\n|Description                                       |\n+--------------------------------------------------+\n|AGGRAVATED POLICE OFFICER - HANDGUN               |\n|UNLAWFUL SALE HANDGUN                             |\n|UNLAWFUL POSS OF HANDGUN                          |\n|ATTEMPT ARMED - HANDGUN                           |\n|ARMED - HANDGUN                                   |\n|AGGRAVATED: HANDGUN                               |\n|GUN OFFENDER: DUTY TO REGISTER                    |\n|ARMED: HANDGUN                                    |\n|AGGRAVATED - HANDGUN                              |\n|UNLAWFUL USE HANDGUN                              |\n|AGGRAVATED PO: HANDGUN                            |\n|GUN OFFENDER NOTIFICATION-NO CONTACT              |\n|ATTEMPT: ARMED-HANDGUN                            |\n|GUN OFFENDER: ANNUAL REGISTRATION                 |\n|AGGRAVATED DOMESTIC BATTERY: HANDGUN              |\n|AGG PRO.EMP: HANDGUN                              |\n|GUN OFFENDER: DUTY TO REPORT CHANGE OF INFORMATION|\n|UNLAWFUL POSSESSION - HANDGUN                     |\n|ATTEMPT AGG: HANDGUN                              |\n|UNLAWFUL USE - HANDGUN                            |\n+--------------------------------------------------+\n\nPercentage of crimes involving a gun: 5.38%\n"
     ]
    }
   ],
   "source": [
    "from pyspark.sql.functions import lower\n",
    "\n",
    "# Filter crimes where Description contains 'gun'\n",
    "gun_crimes = data.filter(lower(col('Description')).contains('gun'))\n",
    "\n",
    "# Count total crimes and gun crimes\n",
    "total_crimes = data.count()\n",
    "gun_crimes_count = gun_crimes.count()\n",
    "\n",
    "# Calculate the percentage of crimes involving a gun\n",
    "gun_crime_percentage = (gun_crimes_count / total_crimes) * 100\n",
    "\n",
    "# Output unique Description values containing 'gun'\n",
    "gun_crimes.select('Description').distinct().show(truncate=False)\n",
    "\n",
    "# Output percentage of crimes involving a gun\n",
    "print(f\"Percentage of crimes involving a gun: {gun_crime_percentage:.2f}%\")\n"
   ]
  }
 ],
 "metadata": {
  "application/vnd.databricks.v1+notebook": {
   "computePreferences": null,
   "dashboards": [],
   "environmentMetadata": {
    "base_environment": "",
    "client": "1"
   },
   "language": "python",
   "notebookMetadata": {
    "pythonIndentUnit": 4
   },
   "notebookName": "Lab4",
   "widgets": {}
  }
 },
 "nbformat": 4,
 "nbformat_minor": 0
}
